{
 "cells": [
  {
   "cell_type": "markdown",
   "metadata": {},
   "source": [
    "# Analyzing Hacker News Posts\n",
    "Hacker News is a site started by the startup incubator [Y Combinator](https://www.ycombinator.com/), where user-submitted stories (known as \"posts\") receive votes and comments, similar to reddit. Hacker News is extremely popular in technology and startup circles, and posts that make it to the top of the Hacker News listings can get hundreds of thousands of visitors as a result.\n",
    "\n",
    "For this miniproject, we will use a downsampled [dataset](https://dq-content.s3.amazonaws.com/356/hacker_news.csv) from the Hacker News website, which consists of approximately 20000 random samples of submissions that received at least 1 comment.\n",
    "\n",
    "Below are descriptions of the columns:\n",
    "* id: the unique identifier from Hacker News for the post\n",
    "* title: the title of the post\n",
    "* url: the URL that the posts links to, if the post has a URL\n",
    "* num_points: the number of points the post acquired, calculated as the total number of upvotes minus the total number of downvotes\n",
    "* num_comments: the number of comments on the post\n",
    "* author: the username of the person who submitted the post\n",
    "* created_at: the date and time of the post's submission\n",
    "\n",
    "We're specifically interested in posts with titles that begin with either \"Ask HN\" or \"Show HN\". Users submit \"Ask HN\" posts to ask the Hacker News community a specific question. Likewise, users submit \"Show HN\" posts to show the Hacker News community a project, product, or just something interesting.\n",
    "\n",
    "We'll compare these two types of posts to determine the following:\n",
    "\n",
    "1) Do Ask HN or Show HN receive more comments on average?\n",
    "2) Do posts created at a certain time receive more comments on average?"
   ]
  },
  {
   "cell_type": "code",
   "execution_count": null,
   "metadata": {},
   "outputs": [],
   "source": []
  }
 ],
 "metadata": {
  "kernelspec": {
   "display_name": "Python 3",
   "language": "python",
   "name": "python3"
  },
  "language_info": {
   "name": "python",
   "version": "3.12.1"
  }
 },
 "nbformat": 4,
 "nbformat_minor": 2
}
