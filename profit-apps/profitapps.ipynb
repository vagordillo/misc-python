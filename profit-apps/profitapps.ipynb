{
 "cells": [
  {
   "cell_type": "markdown",
   "metadata": {},
   "source": [
    "# Profitable App Profiles for the App Store and Google Play Markets\n",
    "An introductory practice into data analysis.\n",
    "\n",
    "For this project, we'll pretend we're working as data analysts for a company that builds Android and iOS mobile apps. We make our apps available on Google Play and in the App Store.\n",
    "\n",
    "We only build apps that are free to download and install, and our main source of revenue consists of in-app ads. This means that the number of users of our apps determines our revenue for any given app — the more users who see and engage with the ads, the better. Our goal for this project is to analyze data to help our developers understand what type of apps are likely to attract more users.\n",
    "\n",
    "We analyze the two following datasets:\n",
    "\n",
    "* A [dataset](https://www.kaggle.com/datasets/lava18/google-play-store-apps) containing data about approximately 10,000 Android apps from Google Play; the data was collected in August 2018. You can download the data set directly from [this link](https://dq-content.s3.amazonaws.com/350/googleplaystore.csv).\n",
    "* A [dataset](https://www.kaggle.com/datasets/ramamet4/app-store-apple-data-set-10k-apps) containing data about approximately 7,000 iOS apps from the App Store; the data was collected in July 2017. You can download the data set directly from [this link](https://dq-content.s3.amazonaws.com/350/AppleStore.csv).\n"
   ]
  },
  {
   "cell_type": "code",
   "execution_count": 1,
   "metadata": {},
   "outputs": [],
   "source": [
    "import csv\n",
    "import os\n",
    "  \n",
    "def explore_data(dataset, start, end, rows_and_columns=False):\n",
    "    dataset_slice = dataset[start:end]    \n",
    "    for row in dataset_slice:\n",
    "        print(row)\n",
    "        print('\\n') # adds a new (empty) line after each row\n",
    "\n",
    "    if rows_and_columns:\n",
    "        print('Number of rows:', len(dataset))\n",
    "        print('Number of columns:', len(dataset[0]))\n"
   ]
  },
  {
   "cell_type": "code",
   "execution_count": 2,
   "metadata": {},
   "outputs": [],
   "source": [
    "gps_filename = \"googleplaystore.csv\"\n",
    "ios_filename = \"AppleStore.csv\"\n",
    "    \n",
    "with open(gps_filename, \"r\", encoding=\"utf8\") as googlePS:\n",
    "    googlePS_reader = list(csv.reader(googlePS))\n",
    "with open(ios_filename, \"r\", encoding=\"utf8\") as ios:\n",
    "    ios_reader = list(csv.reader(ios))\n",
    "    \n",
    "del googlePS_reader[10473]\n",
    "del googlePS_reader[9149]\n",
    "\n"
   ]
  },
  {
   "cell_type": "markdown",
   "metadata": {},
   "source": [
    "Unfortunately, the Google Play dataset not only has broken data entries (the two deleted above); it also has duplicate entries that we must filter out before performing any analysis."
   ]
  },
  {
   "cell_type": "code",
   "execution_count": 3,
   "metadata": {},
   "outputs": [
    {
     "name": "stdout",
     "output_type": "stream",
     "text": [
      "['Instagram', 'SOCIAL', '4.5', '66577313', 'Varies with device', '1,000,000,000+', 'Free', '0', 'Teen', 'Social', 'July 31, 2018', 'Varies with device', 'Varies with device']\n",
      "['Instagram', 'SOCIAL', '4.5', '66577446', 'Varies with device', '1,000,000,000+', 'Free', '0', 'Teen', 'Social', 'July 31, 2018', 'Varies with device', 'Varies with device']\n",
      "['Instagram', 'SOCIAL', '4.5', '66577313', 'Varies with device', '1,000,000,000+', 'Free', '0', 'Teen', 'Social', 'July 31, 2018', 'Varies with device', 'Varies with device']\n",
      "['Instagram', 'SOCIAL', '4.5', '66509917', 'Varies with device', '1,000,000,000+', 'Free', '0', 'Teen', 'Social', 'July 31, 2018', 'Varies with device', 'Varies with device']\n",
      "\n",
      "['Facebook', 'SOCIAL', '4.1', '78158306', 'Varies with device', '1,000,000,000+', 'Free', '0', 'Teen', 'Social', 'August 3, 2018', 'Varies with device', 'Varies with device']\n",
      "['Facebook', 'SOCIAL', '4.1', '78128208', 'Varies with device', '1,000,000,000+', 'Free', '0', 'Teen', 'Social', 'August 3, 2018', 'Varies with device', 'Varies with device']\n"
     ]
    }
   ],
   "source": [
    "for app in googlePS_reader:\n",
    "    name = app[0]\n",
    "    if name == \"Instagram\":\n",
    "        print(app)\n",
    "\n",
    "print()\n",
    "\n",
    "for app in googlePS_reader:\n",
    "    name = app[0]\n",
    "    if name == \"Facebook\":\n",
    "        print(app)"
   ]
  },
  {
   "cell_type": "code",
   "execution_count": 4,
   "metadata": {},
   "outputs": [
    {
     "name": "stdout",
     "output_type": "stream",
     "text": [
      "Number of duplicate apps: 1181\n"
     ]
    }
   ],
   "source": [
    "# Counting the Number of Duplicates in a Dataset\n",
    "\n",
    "duplicates = []\n",
    "uniques = []\n",
    "\n",
    "for app in googlePS_reader:\n",
    "    name = app[0]\n",
    "    if name in uniques:\n",
    "        duplicates.append(name)\n",
    "    else:\n",
    "        uniques.append(name)\n",
    "\n",
    "print(\"Number of duplicate apps:\", len(duplicates))"
   ]
  },
  {
   "cell_type": "markdown",
   "metadata": {},
   "source": [
    "We will filter out the duplicate apps based on their number of reviews. We assume that entries for the same app with a higher number of reviews are more recent, and thusly we keep only the entry with the most reviews."
   ]
  },
  {
   "cell_type": "code",
   "execution_count": 5,
   "metadata": {},
   "outputs": [
    {
     "name": "stdout",
     "output_type": "stream",
     "text": [
      "Expected length: 9658\n",
      "Number of unique entries: 9658\n",
      "Confirmed number of unique entries: 9658\n"
     ]
    }
   ],
   "source": [
    "print(\"Expected length:\", len(googlePS_reader) - 1 - len(duplicates))\n",
    "\n",
    "# Data Filtering\n",
    "reviews_max = {}\n",
    "\n",
    "# Generate a dictionary of app names and their max number of reviews found in the dataset\n",
    "for app in googlePS_reader[1:len(googlePS_reader)]:\n",
    "    name = app[0]\n",
    "    n_reviews = float(app[3])\n",
    "    \n",
    "    if name in reviews_max and reviews_max[name] < n_reviews:\n",
    "        reviews_max[name] = n_reviews\n",
    "    if name not in reviews_max:\n",
    "        reviews_max[name] = n_reviews\n",
    "\n",
    "print(\"Number of unique entries:\", len(reviews_max))\n",
    "\n",
    "googlePS_clean = []\n",
    "already_added = []\n",
    "\n",
    "# Generate a new list with only the entries corresponding to the maximum reviews for each app\n",
    "for app in googlePS_reader[1:len(googlePS_reader)]:\n",
    "    name = app[0]\n",
    "    n_reviews = float(app[3])\n",
    "    \n",
    "    if n_reviews == reviews_max[name] and name not in already_added:\n",
    "        googlePS_clean.append(app)\n",
    "        already_added.append(name)\n",
    "\n",
    "print(\"Confirmed number of unique entries:\", len(googlePS_clean))\n"
   ]
  },
  {
   "cell_type": "markdown",
   "metadata": {},
   "source": [
    "The dataset also includes non-English apps that are not of interest for our analysis, so they also have to be filtered out. To do this, we first define a function that identifies whether an app's name has non-English characters.\n",
    "\n",
    "We will filter out all app names with more than THREE characters falling outside the standard English ASCII range (0-127)."
   ]
  },
  {
   "cell_type": "code",
   "execution_count": 6,
   "metadata": {},
   "outputs": [
    {
     "name": "stdout",
     "output_type": "stream",
     "text": [
      "Number of English Android Apps: 9613\n",
      "Number of English iOS Apps: 7197\n"
     ]
    }
   ],
   "source": [
    "def is_english(inputstr):\n",
    "    count = 0\n",
    "    \n",
    "    for char in inputstr:\n",
    "        if ord(char) > 127:\n",
    "            count += 1\n",
    "    \n",
    "    return True if count <= 3 else False\n",
    "\n",
    "android_clean = []\n",
    "ios_clean = []\n",
    "\n",
    "for app in googlePS_clean:\n",
    "    name = app[0]\n",
    "    \n",
    "    if is_english(name) == True:\n",
    "        android_clean.append(app)\n",
    "\n",
    "for app in ios_reader[1:len(ios_reader)]:\n",
    "    name = app[0]\n",
    "    \n",
    "    if is_english(name) == True:\n",
    "        ios_clean.append(app)\n",
    "\n",
    "print(\"Number of English Android Apps:\", len(android_clean))\n",
    "print(\"Number of English iOS Apps:\", len(ios_clean))"
   ]
  },
  {
   "cell_type": "markdown",
   "metadata": {},
   "source": [
    "To complete our data filtering, we reduce the dataset to include only Free apps."
   ]
  },
  {
   "cell_type": "code",
   "execution_count": 7,
   "metadata": {},
   "outputs": [
    {
     "name": "stdout",
     "output_type": "stream",
     "text": [
      "Number of Free English Android Apps: 8863\n",
      "Number of Free English iOS Apps: 4056\n"
     ]
    }
   ],
   "source": [
    "android_allclean = []\n",
    "ios_allclean = []\n",
    "\n",
    "for app in android_clean:\n",
    "    if app[6] == \"Free\":\n",
    "        android_allclean.append(app)\n",
    "\n",
    "for app in ios_clean:\n",
    "    if app[4] == \"0.0\":\n",
    "        ios_allclean.append(app)\n",
    "\n",
    "print(\"Number of Free English Android Apps:\", len(android_allclean))\n",
    "print(\"Number of Free English iOS Apps:\", len(ios_allclean))"
   ]
  },
  {
   "cell_type": "markdown",
   "metadata": {},
   "source": [
    "Our goal is to determine the kinds of apps that are likely to attract more users because the number of people using our apps affect our revenue.\n",
    "\n",
    "To minimize risks and overhead, our validation strategy for an app idea has three steps:\n",
    "\n",
    "1. Build a minimal Android version of the app, and add it to Google Play.\n",
    "2. If the app has a good response from users, we develop it further.\n",
    "3. If the app is profitable after six months, we build an iOS version of the app and add it to the App Store.\n",
    "\n",
    "Because our end goal is to add the app on both Google Play and the App Store, we need to find app profiles that are successful in both markets. For instance, a profile that works well for both markets might be a productivity app that makes use of gamification.\n",
    "\n",
    "For our specific datasets, our analysis requires build a frequency table for the *prime_genre* column of the App Store data set, and for the *Genres* and *Category* columns of the Google Play data set."
   ]
  },
  {
   "cell_type": "code",
   "execution_count": 10,
   "metadata": {},
   "outputs": [
    {
     "name": "stdout",
     "output_type": "stream",
     "text": [
      "Games : 2257\n",
      "Entertainment : 334\n",
      "Photo & Video : 167\n",
      "Social Networking : 143\n",
      "Education : 132\n",
      "Shopping : 121\n",
      "Utilities : 109\n",
      "Lifestyle : 94\n",
      "Finance : 84\n",
      "Sports : 79\n",
      "Health & Fitness : 76\n",
      "Music : 67\n",
      "Book : 66\n",
      "Productivity : 62\n",
      "News : 58\n",
      "Travel : 56\n",
      "Food & Drink : 43\n",
      "Weather : 31\n",
      "Reference : 20\n",
      "Navigation : 20\n",
      "Business : 20\n",
      "Catalogs : 9\n",
      "Medical : 8\n"
     ]
    }
   ],
   "source": [
    "# Generates frequency tables that show percentages, and displays them in descending order\n",
    "\n",
    "def display_table(dataset, index):\n",
    "    table = freq_table(dataset, index)\n",
    "    table_display = []\n",
    "    for key in table:\n",
    "        key_val_as_tuple = (table[key], key)\n",
    "        table_display.append(key_val_as_tuple)\n",
    "\n",
    "    table_sorted = sorted(table_display, reverse = True)\n",
    "    for entry in table_sorted:\n",
    "        print(entry[1], ':', entry[0])\n",
    "\n",
    "\n",
    "def freq_table(dataset, index):\n",
    "    frequency_table = {}\n",
    "    \n",
    "    for app in dataset:\n",
    "        key = app[index]\n",
    "        if key in frequency_table:\n",
    "            frequency_table[key] += 1\n",
    "        else:\n",
    "            frequency_table[key] = 1\n",
    "    \n",
    "    return frequency_table\n",
    "            \n",
    "\n",
    "# display_table(ios_allclean, 11)"
   ]
  },
  {
   "cell_type": "markdown",
   "metadata": {},
   "source": [
    "# Analyzing the Apple Store Data\n",
    "\n",
    "* The two most common genres are \"Games\" and \"Entertainment\".\n",
    "* The two least common genres are \"Medical\" and \"Catalogs\".\n",
    "* Genres associated with merely provide information do not get a lot of apps, probably because redundance is deemed unnecessary. Genres more involved with personal expression and individuality (games, social media, art) get more apps.\n",
    "* Entertainment in general gets more apps than practical purposes.\n",
    "* Note that a large number of apps does not necessarily entail a large userbase for the genre as a whole. Users might be concentrated on a very small subset of apps in a given genre."
   ]
  },
  {
   "cell_type": "code",
   "execution_count": 11,
   "metadata": {},
   "outputs": [
    {
     "name": "stdout",
     "output_type": "stream",
     "text": [
      "Tools : 749\n",
      "Entertainment : 538\n",
      "Education : 474\n",
      "Business : 407\n",
      "Productivity : 345\n",
      "Lifestyle : 345\n",
      "Finance : 328\n",
      "Medical : 313\n",
      "Sports : 307\n",
      "Personalization : 294\n",
      "Communication : 287\n",
      "Action : 275\n",
      "Health & Fitness : 273\n",
      "Photography : 261\n",
      "News & Magazines : 248\n",
      "Social : 236\n",
      "Travel & Local : 206\n",
      "Shopping : 199\n",
      "Books & Reference : 190\n",
      "Simulation : 181\n",
      "Dating : 165\n",
      "Arcade : 164\n",
      "Video Players & Editors : 157\n",
      "Casual : 156\n",
      "Maps & Navigation : 124\n",
      "Food & Drink : 110\n",
      "Puzzle : 100\n",
      "Racing : 88\n",
      "Role Playing : 83\n",
      "Libraries & Demo : 83\n",
      "Auto & Vehicles : 82\n",
      "Strategy : 80\n",
      "House & Home : 73\n",
      "Weather : 71\n",
      "Events : 63\n",
      "Adventure : 60\n",
      "Comics : 54\n",
      "Beauty : 53\n",
      "Art & Design : 53\n",
      "Parenting : 44\n",
      "Card : 40\n",
      "Casino : 38\n",
      "Trivia : 37\n",
      "Educational;Education : 35\n",
      "Board : 34\n",
      "Educational : 33\n",
      "Education;Education : 30\n",
      "Word : 23\n",
      "Casual;Pretend Play : 21\n",
      "Music : 18\n",
      "Racing;Action & Adventure : 15\n",
      "Puzzle;Brain Games : 15\n",
      "Entertainment;Music & Video : 15\n",
      "Casual;Brain Games : 12\n",
      "Casual;Action & Adventure : 12\n",
      "Arcade;Action & Adventure : 11\n",
      "Action;Action & Adventure : 9\n",
      "Educational;Pretend Play : 8\n",
      "Simulation;Action & Adventure : 7\n",
      "Parenting;Education : 7\n",
      "Entertainment;Brain Games : 7\n",
      "Board;Brain Games : 7\n",
      "Parenting;Music & Video : 6\n",
      "Educational;Brain Games : 6\n",
      "Casual;Creativity : 6\n",
      "Art & Design;Creativity : 6\n",
      "Education;Pretend Play : 5\n",
      "Role Playing;Pretend Play : 4\n",
      "Education;Creativity : 4\n",
      "Role Playing;Action & Adventure : 3\n",
      "Puzzle;Action & Adventure : 3\n",
      "Entertainment;Creativity : 3\n",
      "Entertainment;Action & Adventure : 3\n",
      "Educational;Creativity : 3\n",
      "Educational;Action & Adventure : 3\n",
      "Education;Music & Video : 3\n",
      "Education;Brain Games : 3\n",
      "Education;Action & Adventure : 3\n",
      "Adventure;Action & Adventure : 3\n",
      "Video Players & Editors;Music & Video : 2\n",
      "Sports;Action & Adventure : 2\n",
      "Simulation;Pretend Play : 2\n",
      "Puzzle;Creativity : 2\n",
      "Music;Music & Video : 2\n",
      "Entertainment;Pretend Play : 2\n",
      "Casual;Education : 2\n",
      "Board;Action & Adventure : 2\n",
      "Video Players & Editors;Creativity : 1\n",
      "Trivia;Education : 1\n",
      "Travel & Local;Action & Adventure : 1\n",
      "Tools;Education : 1\n",
      "Strategy;Education : 1\n",
      "Strategy;Creativity : 1\n",
      "Strategy;Action & Adventure : 1\n",
      "Simulation;Education : 1\n",
      "Role Playing;Brain Games : 1\n",
      "Racing;Pretend Play : 1\n",
      "Puzzle;Education : 1\n",
      "Parenting;Brain Games : 1\n",
      "Music & Audio;Music & Video : 1\n",
      "Lifestyle;Pretend Play : 1\n",
      "Lifestyle;Education : 1\n",
      "Health & Fitness;Education : 1\n",
      "Health & Fitness;Action & Adventure : 1\n",
      "Entertainment;Education : 1\n",
      "Communication;Creativity : 1\n",
      "Comics;Creativity : 1\n",
      "Casual;Music & Video : 1\n",
      "Card;Action & Adventure : 1\n",
      "Books & Reference;Education : 1\n",
      "Art & Design;Pretend Play : 1\n",
      "Art & Design;Action & Adventure : 1\n",
      "Arcade;Pretend Play : 1\n",
      "Adventure;Education : 1\n",
      "\n",
      "FAMILY : 1675\n",
      "GAME : 862\n",
      "TOOLS : 750\n",
      "BUSINESS : 407\n",
      "LIFESTYLE : 346\n",
      "PRODUCTIVITY : 345\n",
      "FINANCE : 328\n",
      "MEDICAL : 313\n",
      "SPORTS : 301\n",
      "PERSONALIZATION : 294\n",
      "COMMUNICATION : 287\n",
      "HEALTH_AND_FITNESS : 273\n",
      "PHOTOGRAPHY : 261\n",
      "NEWS_AND_MAGAZINES : 248\n",
      "SOCIAL : 236\n",
      "TRAVEL_AND_LOCAL : 207\n",
      "SHOPPING : 199\n",
      "BOOKS_AND_REFERENCE : 190\n",
      "DATING : 165\n",
      "VIDEO_PLAYERS : 159\n",
      "MAPS_AND_NAVIGATION : 124\n",
      "FOOD_AND_DRINK : 110\n",
      "EDUCATION : 103\n",
      "ENTERTAINMENT : 85\n",
      "LIBRARIES_AND_DEMO : 83\n",
      "AUTO_AND_VEHICLES : 82\n",
      "HOUSE_AND_HOME : 73\n",
      "WEATHER : 71\n",
      "EVENTS : 63\n",
      "PARENTING : 58\n",
      "ART_AND_DESIGN : 57\n",
      "COMICS : 55\n",
      "BEAUTY : 53\n"
     ]
    }
   ],
   "source": [
    "# display_table(android_allclean, 9)\n",
    "# print()\n",
    "# display_table(android_allclean, 1)"
   ]
  },
  {
   "cell_type": "markdown",
   "metadata": {},
   "source": [
    "# Analyzing the Google Play Store Data\n",
    "\n",
    "* The \"Category\" column of the dataset is a poor reference: the categories are too general (what are \"Tools\" even?), and some of them are redundant (\"Education\" and \"Educational\", for example). App makers' category tagging of their own apps is not ideal.\n",
    "* The \"Genres\" column appears to be more useful, and seems to propose a more balanced interest in entertainment and personal usefulness. \"Family\" is by far the most popular genre.\n",
    "\n",
    "# The Next Step\n",
    "We need more information, such as determining the kinds of apps with the most users.\n",
    "\n",
    "The Google Play Store dataset provides data on the number of installs per app, but the Apple Store does not. As a workaround, we'll take the total number of user ratings as a proxy, which we can find in the *rating_count_tot* field. For the Google Store, we'll use the average number of installs per genre."
   ]
  },
  {
   "cell_type": "code",
   "execution_count": 12,
   "metadata": {},
   "outputs": [
    {
     "name": "stdout",
     "output_type": "stream",
     "text": [
      "Average User Ratings for Social Networking = 53078.195804195806\n",
      "Average User Ratings for Photo & Video = 27249.892215568863\n",
      "Average User Ratings for Games = 18924.68896765618\n",
      "Average User Ratings for Music = 56482.02985074627\n",
      "Average User Ratings for Reference = 67447.9\n",
      "Average User Ratings for Health & Fitness = 19952.315789473683\n",
      "Average User Ratings for Weather = 47220.93548387097\n",
      "Average User Ratings for Utilities = 14010.100917431193\n",
      "Average User Ratings for Travel = 20216.01785714286\n",
      "Average User Ratings for Shopping = 18746.677685950413\n",
      "Average User Ratings for News = 15892.724137931034\n",
      "Average User Ratings for Navigation = 25972.05\n",
      "Average User Ratings for Lifestyle = 8978.308510638299\n",
      "Average User Ratings for Entertainment = 10822.961077844311\n",
      "Average User Ratings for Food & Drink = 20179.093023255813\n",
      "Average User Ratings for Sports = 20128.974683544304\n",
      "Average User Ratings for Book = 8498.333333333334\n",
      "Average User Ratings for Finance = 13522.261904761905\n",
      "Average User Ratings for Education = 6266.333333333333\n",
      "Average User Ratings for Productivity = 19053.887096774193\n",
      "Average User Ratings for Business = 6367.8\n",
      "Average User Ratings for Catalogs = 1779.5555555555557\n",
      "Average User Ratings for Medical = 459.75\n"
     ]
    }
   ],
   "source": [
    "ios_genre_table = freq_table(ios_allclean, 11)\n",
    "\n",
    "for genre in ios_genre_table:\n",
    "    total = 0\n",
    "    len_genre = 0\n",
    "    \n",
    "    for app in ios_allclean:\n",
    "        genre_app = app[11]\n",
    "        if genre_app == genre:\n",
    "            ratings = float(app[5])\n",
    "            total += ratings\n",
    "            len_genre += 1\n",
    "    \n",
    "    avg_ratings = total / len_genre\n",
    "    print(\"Average User Ratings for\", genre, \"=\", avg_ratings)"
   ]
  },
  {
   "cell_type": "code",
   "execution_count": 13,
   "metadata": {},
   "outputs": [
    {
     "name": "stdout",
     "output_type": "stream",
     "text": [
      "Average Installs for ART_AND_DESIGN = 1986335.0877192982\n",
      "Average Installs for AUTO_AND_VEHICLES = 647317.8170731707\n",
      "Average Installs for BEAUTY = 513151.88679245283\n",
      "Average Installs for BOOKS_AND_REFERENCE = 8767811.894736841\n",
      "Average Installs for BUSINESS = 1712290.1474201474\n",
      "Average Installs for COMICS = 817657.2727272727\n",
      "Average Installs for COMMUNICATION = 38456119.167247385\n",
      "Average Installs for DATING = 854028.8303030303\n",
      "Average Installs for EDUCATION = 1833495.145631068\n",
      "Average Installs for ENTERTAINMENT = 11640705.88235294\n",
      "Average Installs for EVENTS = 253542.22222222222\n",
      "Average Installs for FINANCE = 1387692.475609756\n",
      "Average Installs for FOOD_AND_DRINK = 1924897.7363636363\n",
      "Average Installs for HEALTH_AND_FITNESS = 4188821.9853479853\n",
      "Average Installs for HOUSE_AND_HOME = 1331540.5616438356\n",
      "Average Installs for LIBRARIES_AND_DEMO = 638503.734939759\n",
      "Average Installs for LIFESTYLE = 1437816.2687861272\n",
      "Average Installs for GAME = 15588015.603248259\n",
      "Average Installs for FAMILY = 3697848.1731343283\n",
      "Average Installs for MEDICAL = 120550.61980830671\n",
      "Average Installs for SOCIAL = 23253652.127118643\n",
      "Average Installs for SHOPPING = 7036877.311557789\n",
      "Average Installs for PHOTOGRAPHY = 17840110.40229885\n",
      "Average Installs for SPORTS = 3638640.1428571427\n",
      "Average Installs for TRAVEL_AND_LOCAL = 13984077.710144928\n",
      "Average Installs for TOOLS = 10801391.298666667\n",
      "Average Installs for PERSONALIZATION = 5201482.6122448975\n",
      "Average Installs for PRODUCTIVITY = 16787331.344927534\n",
      "Average Installs for PARENTING = 542603.6206896552\n",
      "Average Installs for WEATHER = 5074486.197183099\n",
      "Average Installs for VIDEO_PLAYERS = 24727872.452830188\n",
      "Average Installs for NEWS_AND_MAGAZINES = 9549178.467741935\n",
      "Average Installs for MAPS_AND_NAVIGATION = 4056941.7741935486\n"
     ]
    }
   ],
   "source": [
    "android_category_table = freq_table(android_allclean, 1)\n",
    "\n",
    "for category in android_category_table:\n",
    "    total = 0\n",
    "    len_category = 0\n",
    "    \n",
    "    for app in android_allclean:\n",
    "        category_app = app[1]\n",
    "        \n",
    "        if category_app == category:\n",
    "            installs = app[5]\n",
    "            installs = installs.replace('+', '')\n",
    "            installs = installs.replace(',', '')\n",
    "            total += float(installs)\n",
    "            len_category += 1\n",
    "    \n",
    "    avg_installs = total / len_category\n",
    "    print(\"Average Installs for\", category, \"=\", avg_installs)  \n",
    "    "
   ]
  }
 ],
 "metadata": {
  "kernelspec": {
   "display_name": "Python 3",
   "language": "python",
   "name": "python3"
  },
  "language_info": {
   "codemirror_mode": {
    "name": "ipython",
    "version": 3
   },
   "file_extension": ".py",
   "mimetype": "text/x-python",
   "name": "python",
   "nbconvert_exporter": "python",
   "pygments_lexer": "ipython3",
   "version": "3.12.1"
  }
 },
 "nbformat": 4,
 "nbformat_minor": 2
}
