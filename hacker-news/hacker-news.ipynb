{
 "cells": [
  {
   "cell_type": "markdown",
   "metadata": {},
   "source": [
    "# Analyzing Hacker News Posts\n",
    "Hacker News is a site started by the startup incubator [Y Combinator](https://www.ycombinator.com/), where user-submitted stories (known as \"posts\") receive votes and comments, similar to reddit. Hacker News is extremely popular in technology and startup circles, and posts that make it to the top of the Hacker News listings can get hundreds of thousands of visitors as a result.\n",
    "\n",
    "For this miniproject, we will use a downsampled [dataset](https://dq-content.s3.amazonaws.com/356/hacker_news.csv) from the Hacker News website, which consists of approximately 20000 random samples of submissions that received at least 1 comment.\n",
    "\n",
    "Below are descriptions of the columns:\n",
    "* id: the unique identifier from Hacker News for the post\n",
    "* title: the title of the post\n",
    "* url: the URL that the posts links to, if the post has a URL\n",
    "* num_points: the number of points the post acquired, calculated as the total number of upvotes minus the total number of downvotes\n",
    "* num_comments: the number of comments on the post\n",
    "* author: the username of the person who submitted the post\n",
    "* created_at: the date and time of the post's submission\n",
    "\n",
    "We're specifically interested in posts with titles that begin with either \"Ask HN\" or \"Show HN\". Users submit \"Ask HN\" posts to ask the Hacker News community a specific question. Likewise, users submit \"Show HN\" posts to show the Hacker News community a project, product, or just something interesting.\n",
    "\n",
    "We'll compare these two types of posts to determine the following:\n",
    "\n",
    "1) Do Ask HN or Show HN receive more comments on average?\n",
    "2) Do posts created at a certain time receive more comments on average?"
   ]
  },
  {
   "cell_type": "code",
   "execution_count": 1,
   "metadata": {},
   "outputs": [
    {
     "name": "stdout",
     "output_type": "stream",
     "text": [
      "['id', 'title', 'url', 'num_points', 'num_comments', 'author', 'created_at']\n",
      "['12224879', 'Interactive Dynamic Video', 'http://www.interactivedynamicvideo.com/', '386', '52', 'ne0phyte', '8/4/2016 11:52']\n",
      "['10975351', 'How to Use Open Source and Shut the Fuck Up at the Same Time', 'http://hueniverse.com/2016/01/26/how-to-use-open-source-and-shut-the-fuck-up-at-the-same-time/', '39', '10', 'josep2', '1/26/2016 19:30']\n",
      "['11964716', \"Florida DJs May Face Felony for April Fools' Water Joke\", 'http://www.thewire.com/entertainment/2013/04/florida-djs-april-fools-water-joke/63798/', '2', '1', 'vezycash', '6/23/2016 22:20']\n",
      "['11919867', 'Technology ventures: From Idea to Enterprise', 'https://www.amazon.com/Technology-Ventures-Enterprise-Thomas-Byers/dp/0073523429', '3', '1', 'hswarna', '6/17/2016 0:01']\n"
     ]
    }
   ],
   "source": [
    "import csv\n",
    "\n",
    "with open(\"hacker_news.csv\", \"r\", encoding=\"utf8\") as hn_data:\n",
    "    hn = list(csv.reader(hn_data))\n",
    "    \n",
    "for i in range(5):\n",
    "    print(hn[i])"
   ]
  },
  {
   "cell_type": "code",
   "execution_count": 2,
   "metadata": {},
   "outputs": [
    {
     "name": "stdout",
     "output_type": "stream",
     "text": [
      "['id', 'title', 'url', 'num_points', 'num_comments', 'author', 'created_at']\n",
      "\n",
      "['12224879', 'Interactive Dynamic Video', 'http://www.interactivedynamicvideo.com/', '386', '52', 'ne0phyte', '8/4/2016 11:52']\n",
      "['10975351', 'How to Use Open Source and Shut the Fuck Up at the Same Time', 'http://hueniverse.com/2016/01/26/how-to-use-open-source-and-shut-the-fuck-up-at-the-same-time/', '39', '10', 'josep2', '1/26/2016 19:30']\n",
      "['11964716', \"Florida DJs May Face Felony for April Fools' Water Joke\", 'http://www.thewire.com/entertainment/2013/04/florida-djs-april-fools-water-joke/63798/', '2', '1', 'vezycash', '6/23/2016 22:20']\n",
      "['11919867', 'Technology ventures: From Idea to Enterprise', 'https://www.amazon.com/Technology-Ventures-Enterprise-Thomas-Byers/dp/0073523429', '3', '1', 'hswarna', '6/17/2016 0:01']\n",
      "['10301696', 'Note by Note: The Making of Steinway L1037 (2007)', 'http://www.nytimes.com/2007/11/07/movies/07stein.html?_r=0', '8', '2', 'walterbell', '9/30/2015 4:12']\n"
     ]
    }
   ],
   "source": [
    "# Storing the headers in a separate variable before deleting them from the dataset for easier processing\n",
    "\n",
    "headers = hn[0]\n",
    "\n",
    "del hn[0]\n",
    "\n",
    "print(headers)\n",
    "print()\n",
    "for i in range(5):\n",
    "    print(hn[i])"
   ]
  },
  {
   "cell_type": "code",
   "execution_count": 3,
   "metadata": {},
   "outputs": [
    {
     "name": "stdout",
     "output_type": "stream",
     "text": [
      "Total posts: 20100\n",
      "Number of Ask HN posts: 1744\n",
      "Number of Show HN posts: 1162\n",
      "Number of non-Ask, non-Show HN posts: 17194\n"
     ]
    }
   ],
   "source": [
    "# Extracting the specific entries desired - \"Ask HN\" and \"Show HN\"\n",
    "\n",
    "ask_posts = []\n",
    "show_posts = []\n",
    "other_posts = []\n",
    "\n",
    "for post in hn:\n",
    "    title = post[1]\n",
    "    \n",
    "    if title.lower().startswith(\"ask hn\"):\n",
    "        ask_posts.append(post)\n",
    "    elif title.lower().startswith(\"show hn\"):\n",
    "        show_posts.append(post)\n",
    "    else:\n",
    "        other_posts.append(post)\n",
    "\n",
    "print(\"Total posts:\", len(hn))\n",
    "print(\"Number of Ask HN posts:\", len(ask_posts))\n",
    "print(\"Number of Show HN posts:\", len(show_posts))\n",
    "print(\"Number of non-Ask, non-Show HN posts:\", len(other_posts))"
   ]
  },
  {
   "cell_type": "code",
   "execution_count": 4,
   "metadata": {},
   "outputs": [
    {
     "name": "stdout",
     "output_type": "stream",
     "text": [
      "Average number of comments in Ask HN posts: 14.038417431192661\n",
      "Average number of comments in Show HN posts: 10.31669535283993\n"
     ]
    }
   ],
   "source": [
    "# Calculates the number of comments on a posts dataset\n",
    "def calc_avg_comments(dataset, index):\n",
    "    total_comments = 0\n",
    "    \n",
    "    for post in dataset:\n",
    "        total_comments += int(post[index])\n",
    "        \n",
    "    return total_comments/len(dataset)\n",
    "\n",
    "avg_ask_comments = calc_avg_comments(ask_posts, 4)\n",
    "print(\"Average number of comments in Ask HN posts:\", avg_ask_comments)\n",
    "avg_show_comments = calc_avg_comments(show_posts, 4)\n",
    "print(\"Average number of comments in Show HN posts:\", avg_show_comments)\n",
    "\n"
   ]
  },
  {
   "cell_type": "markdown",
   "metadata": {},
   "source": [
    "\"Ask HN\" posts receive more comments on average!\n",
    "\n",
    "Since \"Ask HN\" posts are more likely to receive comments, we'll focus our remaining analysis just on these posts.\n",
    "\n",
    "Next, we'll determine if \"Ask HN\" posts created at a certain time are more likely to attract comments. We'll use the following steps to perform this analysis:\n",
    "\n",
    "1) Calculate the number of \"Ask HN\" posts created in each hour of the day, along with the number of comments received.\n",
    "2) Calculate the average number of comments \"Ask HN\" posts receive by hour created."
   ]
  },
  {
   "cell_type": "code",
   "execution_count": 11,
   "metadata": {},
   "outputs": [
    {
     "name": "stdout",
     "output_type": "stream",
     "text": [
      "{'00': 55, '01': 60, '02': 58, '03': 54, '04': 47, '05': 46, '06': 44, '07': 34, '08': 48, '09': 45, '10': 59, '11': 58, '12': 73, '13': 85, '14': 107, '15': 116, '16': 108, '17': 100, '18': 109, '19': 110, '20': 80, '21': 109, '22': 71, '23': 68}\n",
      "{'00': 447, '01': 683, '02': 1381, '03': 421, '04': 337, '05': 464, '06': 397, '07': 267, '08': 492, '09': 251, '10': 793, '11': 641, '12': 687, '13': 1253, '14': 1416, '15': 4477, '16': 1814, '17': 1146, '18': 1439, '19': 1188, '20': 1722, '21': 1745, '22': 479, '23': 543}\n",
      "\n",
      "[['00', 8.127272727272727], ['01', 11.383333333333333], ['02', 23.810344827586206], ['03', 7.796296296296297], ['04', 7.170212765957447], ['05', 10.08695652173913], ['06', 9.022727272727273], ['07', 7.852941176470588], ['08', 10.25], ['09', 5.5777777777777775], ['10', 13.440677966101696], ['11', 11.051724137931034], ['12', 9.41095890410959], ['13', 14.741176470588234], ['14', 13.233644859813085], ['15', 38.5948275862069], ['16', 16.796296296296298], ['17', 11.46], ['18', 13.20183486238532], ['19', 10.8], ['20', 21.525], ['21', 16.009174311926607], ['22', 6.746478873239437], ['23', 7.985294117647059]]\n",
      "\n",
      "Top 5 Hours for Ask Posts Comments\n",
      "15:00: 38.59 average comments per post.\n",
      "02:00: 23.81 average comments per post.\n",
      "20:00: 21.52 average comments per post.\n",
      "16:00: 16.80 average comments per post.\n",
      "21:00: 16.01 average comments per post.\n"
     ]
    }
   ],
   "source": [
    "# Calculating the number of ask posts and comments by hour created\n",
    "\n",
    "import datetime as dt\n",
    "\n",
    "result_list = []\n",
    "\n",
    "for post in ask_posts:\n",
    "    result_list.append([post[6], int(post[4])])\n",
    "    \n",
    "counts_by_hour = {}\n",
    "comments_by_hour = {}\n",
    "\n",
    "for result in result_list:\n",
    "    pdt = dt.datetime.strptime(result[0], \"%m/%d/%Y %H:%M\")\n",
    "    hour = pdt.strftime(\"%H\")\n",
    "    \n",
    "    if hour not in counts_by_hour:\n",
    "        counts_by_hour[hour] = 1\n",
    "        comments_by_hour[hour] = result[1]\n",
    "    else:\n",
    "        counts_by_hour[hour] += 1\n",
    "        comments_by_hour[hour] += result[1]\n",
    "\n",
    "counts_by_hour = dict(sorted(counts_by_hour.items()))\n",
    "comments_by_hour = dict(sorted(comments_by_hour.items()))\n",
    "print(counts_by_hour) \n",
    "print(comments_by_hour)\n",
    "\n",
    "\n",
    "# Calculates the average number of comments per post for each hour of the day\n",
    "\n",
    "avg_by_hour = []\n",
    "\n",
    "for hour in counts_by_hour:\n",
    "    if hour in comments_by_hour:\n",
    "        avg_by_hour.append([hour, comments_by_hour[hour]/counts_by_hour[hour]])\n",
    "\n",
    "print()\n",
    "print(avg_by_hour)\n",
    "\n",
    "\n",
    "# Sorts and arranges the average comments per post in descending order\n",
    "\n",
    "swap_avg_by_hour = []\n",
    "\n",
    "for item in avg_by_hour:\n",
    "    swap_avg_by_hour.append([item[1], item[0]])\n",
    "\n",
    "sorted_swap = sorted(swap_avg_by_hour, reverse=True)\n",
    "\n",
    "\n",
    "# Prints top 5 hours for Ask HN posts comments\n",
    "\n",
    "print()\n",
    "print(\"Top 5 Hours for Ask Posts Comments\")\n",
    "\n",
    "for i in range(5):\n",
    "    tdt = dt.datetime.strptime(sorted_swap[i][1], \"%H\")\n",
    "    print(f\"{tdt.strftime(\"%H:%M\")}: {sorted_swap[i][0]:.2f} average comments per post\")\n",
    "\n"
   ]
  },
  {
   "cell_type": "markdown",
   "metadata": {},
   "source": [
    "# Conclusions\n",
    "* The way to create a post with the highest chances of receiving comments is by crafting an \"Ask HN\" post in the periods between 15-16 (3-4 PM) and 20-21 (8-9 PM).\n",
    "* All times are US EST times according to the dataset's documentation.\n",
    "* There is an outlier at 2 AM as well."
   ]
  }
 ],
 "metadata": {
  "kernelspec": {
   "display_name": "Python 3",
   "language": "python",
   "name": "python3"
  },
  "language_info": {
   "codemirror_mode": {
    "name": "ipython",
    "version": 3
   },
   "file_extension": ".py",
   "mimetype": "text/x-python",
   "name": "python",
   "nbconvert_exporter": "python",
   "pygments_lexer": "ipython3",
   "version": "3.12.1"
  }
 },
 "nbformat": 4,
 "nbformat_minor": 2
}
